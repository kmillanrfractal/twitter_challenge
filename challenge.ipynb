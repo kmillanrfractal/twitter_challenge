{
 "cells": [
  {
   "cell_type": "markdown",
   "id": "7f77d217",
   "metadata": {},
   "source": [
    "## Desafío de Ingeniero de Datos\n",
    "Kevin Millan\n",
    "\n",
    "email: kmillanr@fractal-software.com\n",
    "\n",
    "### Introducción\n",
    "Este notebook documenta el proceso de resolución del Desafío de Ingeniero de Datos. El desafío consiste en analizar un conjunto de datos de tweets para responder a consultas específicas, optimizando tanto el tiempo de ejecución como el uso de memoria.\n",
    "\n",
    "### Consultas\n",
    "1. Las 10 fechas con más tweets y el usuario con más tweets en esas fechas.\n",
    "2. Los 10 emojis más usados y sus conteos.\n",
    "3. Los 10 usuarios más influyentes basados en menciones.\n",
    "\n",
    "\n",
    "Cada consulta tiene dos implementaciones: una optimizada para el tiempo de ejecución y la otra para el uso de memoria.\n"
   ]
  },
  {
   "cell_type": "markdown",
   "id": "b7d22ce6",
   "metadata": {},
   "source": [
    "## Iniciar Sesion de Spark"
   ]
  },
  {
   "cell_type": "code",
   "execution_count": 5,
   "id": "f6c28eb2",
   "metadata": {},
   "outputs": [],
   "source": [
    "import os\n",
    "from pyspark.sql import SparkSession\n",
    "\n",
    "# Establecer Variables de Entorno\n",
    "os.environ[\"JAVA_HOME\"] = \"/usr/lib/jvm/java-11-openjdk-arm64\"\n",
    "os.environ[\"SPARK_HOME\"] = \"/usr/local/lib/python3.9/site-packages/pyspark\"\n",
    "\n",
    "# Crear Sesion de Spark con opciones de JVM\n",
    "spark = SparkSession.builder \\\n",
    "    .appName(\"PySpark Jupyter Notebook\") \\\n",
    "    .config(\"spark.driver.memory\", \"2g\") \\\n",
    "    .config(\"spark.executor.extraJavaOptions\", \"--illegal-access=permit\") \\\n",
    "    .getOrCreate()\n",
    "\n",
    "# Reducer Verbosidad de Logs de Error\n",
    "spark.sparkContext.setLogLevel(\"ERROR\")\n",
    "\n",
    "# Verificar Sesion de Spark\n",
    "spark\n"
   ]
  },
  {
   "cell_type": "markdown",
   "id": "777125f9",
   "metadata": {},
   "source": [
    "## Importacion de Dependencias"
   ]
  },
  {
   "cell_type": "code",
   "execution_count": null,
   "id": "39388b21",
   "metadata": {},
   "outputs": [],
   "source": [
    "from src.q1_time import q1_time\n",
    "from src.q1_memory import q1_memory\n",
    "from src.q2_time import q2_time\n",
    "from src.q2_memory import q2_memory\n",
    "from src.q3_time import q3_time\n",
    "from src.q3_memory import q3_memory\n"
   ]
  },
  {
   "cell_type": "markdown",
   "id": "39f3c1b8",
   "metadata": {},
   "source": [
    "## Llamado de Funciones"
   ]
  },
  {
   "cell_type": "code",
   "execution_count": null,
   "id": "f5746968",
   "metadata": {},
   "outputs": [],
   "source": [
    "import pandas as pd\n",
    "import time\n",
    "\n",
    "file_path = 'farmers-protest-tweets-2021-2-4.json'\n",
    "\n",
    "results = []\n",
    "function_outputs = {}\n",
    "\n",
    "# Función para ejecutar y medir una función\n",
    "def execute_and_measure(func, func_name, file_path):\n",
    "    start_time = time.time()\n",
    "    output = func(file_path)\n",
    "    execution_time = time.time() - start_time\n",
    "    memory_usage = 100  # Suponiendo un uso de memoria ficticio para el ejemplo\n",
    "    results.append([func_name, execution_time, memory_usage])\n",
    "    function_outputs[func_name] = output\n",
    "\n",
    "# Ejecutar funciones y capturar resultados\n",
    "execute_and_measure(q1_time, \"q1_time\", file_path)\n",
    "execute_and_measure(q1_memory, \"q1_memory\", file_path)\n",
    "execute_and_measure(q2_time, \"q2_time\", file_path)\n",
    "execute_and_measure(q2_memory, \"q2_memory\", file_path)\n",
    "execute_and_measure(q3_time, \"q3_time\", file_path)\n",
    "execute_and_measure(q3_memory, \"q3_memory\", file_path)\n",
    "\n",
    "# Crear DataFrame para los resultados de rendimiento\n",
    "df = pd.DataFrame(results, columns=[\"Query\", \"Execution Time (s)\", \"Memory Usage (MB)\"])\n",
    "\n",
    "# Mostrar tabla comparativa de rendimiento\n",
    "print(\"Tabla comparativa de rendimiento:\")\n",
    "display(df)\n",
    "\n",
    "# Mostrar resultados de las funciones\n",
    "print(\"Resultados de las funciones:\")\n",
    "for func_name, output in function_outputs.items():\n",
    "    print(f\"{func_name} result:\")\n",
    "    print(output)\n",
    "    print(\"\\n\")\n"
   ]
  }
 ],
 "metadata": {
  "kernelspec": {
   "display_name": "Python 3",
   "language": "python",
   "name": "python3"
  },
  "language_info": {
   "codemirror_mode": {
    "name": "ipython",
    "version": 3
   },
   "file_extension": ".py",
   "mimetype": "text/x-python",
   "name": "python",
   "nbconvert_exporter": "python",
   "pygments_lexer": "ipython3",
   "version": "3.12.2"
  }
 },
 "nbformat": 4,
 "nbformat_minor": 5
}
